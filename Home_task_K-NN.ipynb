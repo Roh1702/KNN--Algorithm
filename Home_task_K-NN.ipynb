{
 "cells": [
  {
   "cell_type": "markdown",
   "metadata": {},
   "source": [
    "## K-NN Algorithm for Classification Problem"
   ]
  },
  {
   "cell_type": "code",
   "execution_count": 251,
   "metadata": {},
   "outputs": [],
   "source": [
    "# importing required library\n",
    "import numpy as np  \n",
    "import pandas as pd\n",
    "import os\n",
    "from sklearn.model_selection import train_test_split"
   ]
  },
  {
   "cell_type": "code",
   "execution_count": 252,
   "metadata": {},
   "outputs": [],
   "source": [
    "# Reading Data\n",
    "iris = pd.read_csv('iris.csv')"
   ]
  },
  {
   "cell_type": "code",
   "execution_count": 253,
   "metadata": {},
   "outputs": [
    {
     "data": {
      "text/html": [
       "<div>\n",
       "<style scoped>\n",
       "    .dataframe tbody tr th:only-of-type {\n",
       "        vertical-align: middle;\n",
       "    }\n",
       "\n",
       "    .dataframe tbody tr th {\n",
       "        vertical-align: top;\n",
       "    }\n",
       "\n",
       "    .dataframe thead th {\n",
       "        text-align: right;\n",
       "    }\n",
       "</style>\n",
       "<table border=\"1\" class=\"dataframe\">\n",
       "  <thead>\n",
       "    <tr style=\"text-align: right;\">\n",
       "      <th></th>\n",
       "      <th>Unnamed: 0</th>\n",
       "      <th>Sepal.Length</th>\n",
       "      <th>Sepal.Width</th>\n",
       "      <th>Petal.Length</th>\n",
       "      <th>Petal.Width</th>\n",
       "      <th>Species</th>\n",
       "    </tr>\n",
       "  </thead>\n",
       "  <tbody>\n",
       "    <tr>\n",
       "      <th>0</th>\n",
       "      <td>1</td>\n",
       "      <td>5.1</td>\n",
       "      <td>3.5</td>\n",
       "      <td>1.4</td>\n",
       "      <td>0.2</td>\n",
       "      <td>setosa</td>\n",
       "    </tr>\n",
       "    <tr>\n",
       "      <th>1</th>\n",
       "      <td>2</td>\n",
       "      <td>4.9</td>\n",
       "      <td>3.0</td>\n",
       "      <td>1.4</td>\n",
       "      <td>0.2</td>\n",
       "      <td>setosa</td>\n",
       "    </tr>\n",
       "    <tr>\n",
       "      <th>2</th>\n",
       "      <td>3</td>\n",
       "      <td>4.7</td>\n",
       "      <td>3.2</td>\n",
       "      <td>1.3</td>\n",
       "      <td>0.2</td>\n",
       "      <td>setosa</td>\n",
       "    </tr>\n",
       "    <tr>\n",
       "      <th>3</th>\n",
       "      <td>4</td>\n",
       "      <td>4.6</td>\n",
       "      <td>3.1</td>\n",
       "      <td>1.5</td>\n",
       "      <td>0.2</td>\n",
       "      <td>setosa</td>\n",
       "    </tr>\n",
       "    <tr>\n",
       "      <th>4</th>\n",
       "      <td>5</td>\n",
       "      <td>5.0</td>\n",
       "      <td>3.6</td>\n",
       "      <td>1.4</td>\n",
       "      <td>0.2</td>\n",
       "      <td>setosa</td>\n",
       "    </tr>\n",
       "  </tbody>\n",
       "</table>\n",
       "</div>"
      ],
      "text/plain": [
       "   Unnamed: 0  Sepal.Length  Sepal.Width  Petal.Length  Petal.Width Species\n",
       "0           1           5.1          3.5           1.4          0.2  setosa\n",
       "1           2           4.9          3.0           1.4          0.2  setosa\n",
       "2           3           4.7          3.2           1.3          0.2  setosa\n",
       "3           4           4.6          3.1           1.5          0.2  setosa\n",
       "4           5           5.0          3.6           1.4          0.2  setosa"
      ]
     },
     "execution_count": 253,
     "metadata": {},
     "output_type": "execute_result"
    }
   ],
   "source": [
    "# checking Few Observation of Dataset\n",
    "iris.head(5)"
   ]
  },
  {
   "cell_type": "code",
   "execution_count": 254,
   "metadata": {},
   "outputs": [],
   "source": [
    "# Assigning Predictor/Features & Target/Label \n",
    "x = iris[['Sepal.Length', 'Sepal.Width', 'Petal.Length', 'Petal.Width']]\n",
    "y = iris['Species']"
   ]
  },
  {
   "cell_type": "code",
   "execution_count": null,
   "metadata": {},
   "outputs": [],
   "source": []
  },
  {
   "cell_type": "code",
   "execution_count": 255,
   "metadata": {},
   "outputs": [],
   "source": [
    "# Spliting Data for test-train using train_test_splitabs\n",
    "x_train, x_test, y_train, y_test = train_test_split(x, y, test_size = 0.3, stratify = y, random_state = 100) "
   ]
  },
  {
   "cell_type": "code",
   "execution_count": 256,
   "metadata": {},
   "outputs": [],
   "source": [
    "## Transforming to Standardization as it will reduce domination of a variable with large Range.\n",
    "## Using Scipy we can get standard normal distribution but only for varaible which follows Normal dist.\n",
    "## if A varaible distribution is unknown then we can standardize it. as follow x_std = (Xi - X_bar)/std(X)\n",
    "## we will use scipy lib only to transform variable to standardized data.\n",
    "\n",
    "import scipy.stats as st\n",
    "x_train = pd.DataFrame(st.zscore(x_train))\n",
    "x_test = pd.DataFrame(st.zscore(x_test))"
   ]
  },
  {
   "cell_type": "code",
   "execution_count": 257,
   "metadata": {},
   "outputs": [
    {
     "name": "stdout",
     "output_type": "stream",
     "text": [
      "x_train data: \n",
      "          0         1         2         3\n",
      "0  0.284751 -0.671977  0.129450  0.111664\n",
      "1 -0.441537 -1.160264  0.354115 -0.018611\n",
      "x_test data: \n",
      "          0         1         2         3\n",
      "0 -1.087814  0.174162 -1.305478 -1.303803\n",
      "1 -0.357193 -1.063303  0.157334  0.183253\n",
      "y_train data: \n",
      "71    versicolor\n",
      "90    versicolor\n",
      "Name: Species, dtype: object\n",
      "y_test data: \n",
      "34        setosa\n",
      "89    versicolor\n",
      "Name: Species, dtype: object\n"
     ]
    }
   ],
   "source": [
    "## Checking assigned Varaible\n",
    "print(f'x_train data: \\n{ x_train.head(2)}')\n",
    "print(f'x_test data: \\n{x_test.head(2)}')\n",
    "print(f'y_train data: \\n{y_train.head(2)}')\n",
    "print(f'y_test data: \\n{y_test.head(2)}')"
   ]
  },
  {
   "cell_type": "markdown",
   "metadata": {},
   "source": [
    "### Function 1\n",
    "### * To calculate Euclidean Distance between two Vector"
   ]
  },
  {
   "cell_type": "code",
   "execution_count": 258,
   "metadata": {},
   "outputs": [],
   "source": [
    "# Euclidean Distance function using \"for loop\" method \n",
    "def DISTANCE(x,y):\n",
    "    distance = np.sqrt(np.sum((x-y)**2))\n",
    "    return(distance)"
   ]
  },
  {
   "cell_type": "code",
   "execution_count": 259,
   "metadata": {},
   "outputs": [
    {
     "data": {
      "text/plain": [
       "0.20525803196776615"
      ]
     },
     "execution_count": 259,
     "metadata": {},
     "output_type": "execute_result"
    }
   ],
   "source": [
    "DISTANCE(x_train.iloc[87,],x_test.iloc[0,])"
   ]
  },
  {
   "cell_type": "code",
   "execution_count": 260,
   "metadata": {},
   "outputs": [],
   "source": [
    "# Euclidean Distance function using Vectorized Notation \n",
    "def DIST(x,y):\n",
    "    distance = np.sqrt(np.dot((x-y), np.transpose(x-y)))\n",
    "    return(distance)"
   ]
  },
  {
   "cell_type": "code",
   "execution_count": 261,
   "metadata": {},
   "outputs": [
    {
     "data": {
      "text/plain": [
       "0.20525803196776615"
      ]
     },
     "execution_count": 261,
     "metadata": {},
     "output_type": "execute_result"
    }
   ],
   "source": [
    "DIST(x_train.iloc[87,],x_test.iloc[0,])"
   ]
  },
  {
   "cell_type": "markdown",
   "metadata": {},
   "source": [
    "### Function 2\n",
    "### * To calculate KNN for one test observation where K = 3"
   ]
  },
  {
   "cell_type": "code",
   "execution_count": 262,
   "metadata": {},
   "outputs": [
    {
     "data": {
      "text/plain": [
       "0   -1.087814\n",
       "1    0.174162\n",
       "2   -1.305478\n",
       "3   -1.303803\n",
       "Name: 0, dtype: float64"
      ]
     },
     "execution_count": 262,
     "metadata": {},
     "output_type": "execute_result"
    }
   ],
   "source": [
    "# Importing Math Libaray\n",
    "# extracting 1 observation from test dataset\n",
    "import math\n",
    "x_star = x_test.iloc[0,]\n",
    "x_star"
   ]
  },
  {
   "cell_type": "code",
   "execution_count": 263,
   "metadata": {},
   "outputs": [],
   "source": [
    "# Function to Calaulate K-NN with one obs in Test data set, where K = 3\n",
    "\n",
    "def NN(x_train, y_train, x_test, k):\n",
    "    dist = []\n",
    "    for i in range(len(x_train)):\n",
    "        distance = DISTANCE(x_train.iloc[i,], x_test)\n",
    "        dist.append((distance, i))  \n",
    "     \n",
    "    # sorting dist list A/c to distance\n",
    "    dist.sort()\n",
    "    \n",
    "    # creating Array to store neighbour A/c to sorted distance\n",
    "    # Here we will get index of features training data(x_train) of nearest neighbour\n",
    "    neighbours =[]\n",
    "    for j in range(k):\n",
    "        neighbours.append(dist[j][1])\n",
    "     \n",
    "    # fetching values in label traning data(y_train) with help of index in neighbours list \n",
    "    target = []\n",
    "    for l in range(k):\n",
    "        target.append(np.array(y_train)[neighbours[l]])\n",
    "        \n",
    "    \n",
    "    #Create a function for counting frequency of values in target dictionary\n",
    "    count = {}\n",
    "    for t in target:\n",
    "        count[t] = count.get(t,0) + 1\n",
    "        \n",
    "    #Create a list with (value, key) pair \n",
    "    pair = []\n",
    "    for key in count:\n",
    "        pair.append((count[key], key))\n",
    "    \n",
    "    #Sort the pair and get the most occurring word\n",
    "    pair.sort(reverse=True)\n",
    "    pred = pair[0][1]\n",
    "    #print(pred)\n",
    "    \n",
    "    \n",
    "    #print(f'Minimum Distance are : {dist}')\n",
    "    #print(f\"index is {index}\")\n",
    "    #return(np.array(y_train)[index])\n",
    "    #print(count)\n",
    "    return(pred)"
   ]
  },
  {
   "cell_type": "code",
   "execution_count": 264,
   "metadata": {},
   "outputs": [
    {
     "data": {
      "text/plain": [
       "'setosa'"
      ]
     },
     "execution_count": 264,
     "metadata": {},
     "output_type": "execute_result"
    }
   ],
   "source": [
    "NN(x_train, y_train, x_star, k=3)"
   ]
  },
  {
   "cell_type": "code",
   "execution_count": 265,
   "metadata": {},
   "outputs": [
    {
     "data": {
      "text/plain": [
       "'setosa'"
      ]
     },
     "execution_count": 265,
     "metadata": {},
     "output_type": "execute_result"
    }
   ],
   "source": [
    "y_train.iloc[87]"
   ]
  },
  {
   "cell_type": "code",
   "execution_count": 266,
   "metadata": {},
   "outputs": [
    {
     "data": {
      "text/plain": [
       "'setosa'"
      ]
     },
     "execution_count": 266,
     "metadata": {},
     "output_type": "execute_result"
    }
   ],
   "source": [
    "y_test.iloc[0]"
   ]
  },
  {
   "cell_type": "code",
   "execution_count": 267,
   "metadata": {},
   "outputs": [],
   "source": [
    "### Function 3\n",
    "### * To Find 1NN for all the Observation in Test Data."
   ]
  },
  {
   "cell_type": "code",
   "execution_count": 268,
   "metadata": {},
   "outputs": [],
   "source": [
    "# Function to Calaulate K-NN with All the obs in Test data set, where K = 3\n",
    "\n",
    "def K_NN(x_train, y_train, x_test, k):\n",
    "    y_pred = []\n",
    "    for i in range(len(x_test)):\n",
    "        y_pred.append(NN(x_train, y_train, x_test.iloc[i,], k))\n",
    "        \n",
    "    return(y_pred)"
   ]
  },
  {
   "cell_type": "code",
   "execution_count": 269,
   "metadata": {},
   "outputs": [
    {
     "data": {
      "text/plain": [
       "['setosa',\n",
       " 'versicolor',\n",
       " 'virginica',\n",
       " 'versicolor',\n",
       " 'virginica',\n",
       " 'setosa',\n",
       " 'versicolor',\n",
       " 'setosa',\n",
       " 'setosa',\n",
       " 'setosa',\n",
       " 'versicolor',\n",
       " 'versicolor',\n",
       " 'versicolor',\n",
       " 'setosa',\n",
       " 'versicolor',\n",
       " 'virginica',\n",
       " 'virginica',\n",
       " 'virginica',\n",
       " 'versicolor',\n",
       " 'versicolor',\n",
       " 'virginica',\n",
       " 'versicolor',\n",
       " 'versicolor',\n",
       " 'virginica',\n",
       " 'versicolor',\n",
       " 'setosa',\n",
       " 'versicolor',\n",
       " 'versicolor',\n",
       " 'setosa',\n",
       " 'virginica',\n",
       " 'virginica',\n",
       " 'virginica',\n",
       " 'virginica',\n",
       " 'setosa',\n",
       " 'virginica',\n",
       " 'virginica',\n",
       " 'setosa',\n",
       " 'setosa',\n",
       " 'setosa',\n",
       " 'versicolor',\n",
       " 'setosa',\n",
       " 'setosa',\n",
       " 'setosa',\n",
       " 'versicolor',\n",
       " 'virginica']"
      ]
     },
     "execution_count": 269,
     "metadata": {},
     "output_type": "execute_result"
    }
   ],
   "source": [
    "# Predicted Values are as follow:\n",
    "y_pred = K_NN(x_train, y_train, x_test, k=3)\n",
    "y_pred"
   ]
  },
  {
   "cell_type": "code",
   "execution_count": null,
   "metadata": {},
   "outputs": [],
   "source": []
  },
  {
   "cell_type": "code",
   "execution_count": 270,
   "metadata": {},
   "outputs": [
    {
     "name": "stdout",
     "output_type": "stream",
     "text": [
      "y_pred: ['setosa', 'versicolor', 'virginica', 'versicolor', 'virginica', 'setosa', 'versicolor', 'setosa', 'setosa', 'setosa', 'versicolor', 'versicolor', 'versicolor', 'setosa', 'versicolor', 'virginica', 'virginica', 'virginica', 'versicolor', 'versicolor', 'virginica', 'versicolor', 'versicolor', 'virginica', 'versicolor', 'setosa', 'versicolor', 'versicolor', 'setosa', 'virginica', 'virginica', 'virginica', 'virginica', 'setosa', 'virginica', 'virginica', 'setosa', 'setosa', 'setosa', 'versicolor', 'setosa', 'setosa', 'setosa', 'versicolor', 'virginica']\n",
      "y_test: ['setosa', 'versicolor', 'virginica', 'versicolor', 'virginica', 'setosa', 'versicolor', 'setosa', 'setosa', 'setosa', 'versicolor', 'versicolor', 'versicolor', 'setosa', 'versicolor', 'virginica', 'virginica', 'virginica', 'versicolor', 'versicolor', 'virginica', 'versicolor', 'versicolor', 'virginica', 'versicolor', 'setosa', 'virginica', 'versicolor', 'setosa', 'virginica', 'virginica', 'virginica', 'virginica', 'setosa', 'virginica', 'virginica', 'setosa', 'setosa', 'setosa', 'versicolor', 'setosa', 'setosa', 'setosa', 'versicolor', 'virginica']\n"
     ]
    }
   ],
   "source": [
    "# Printing predicted & Actual Data\n",
    "print(f'y_pred: {list(y_pred)}')\n",
    "print(f'y_test: {list(y_test)}')"
   ]
  },
  {
   "cell_type": "code",
   "execution_count": 271,
   "metadata": {},
   "outputs": [],
   "source": [
    "# Converting to List\n",
    "y_pred = list(y_pred)\n",
    "y_test = list(y_test)"
   ]
  },
  {
   "cell_type": "code",
   "execution_count": 276,
   "metadata": {},
   "outputs": [],
   "source": [
    "# To check Accuracy \n",
    "result = []\n",
    "for i in range(len(y_pred)):\n",
    "    for j in range(len(y_test)):\n",
    "        if i == j:\n",
    "            if y_pred[i] == y_test[j]:\n",
    "                result.append(1)\n",
    "            else:\n",
    "                result.append(0)\n",
    "        else:\n",
    "            pass\n"
   ]
  },
  {
   "cell_type": "code",
   "execution_count": 277,
   "metadata": {},
   "outputs": [
    {
     "name": "stdout",
     "output_type": "stream",
     "text": [
      "Total No of Records: 45\n",
      "No of Records Predict correctly: 44\n"
     ]
    }
   ],
   "source": [
    "print(f'Total No of Records: {len(result)}')\n",
    "print(f'No of Records Predict correctly: {sum(result)}')"
   ]
  },
  {
   "cell_type": "code",
   "execution_count": 278,
   "metadata": {},
   "outputs": [
    {
     "name": "stdout",
     "output_type": "stream",
     "text": [
      "Accuracy is: 97.78\n"
     ]
    }
   ],
   "source": [
    "Accuracy = (sum(result)/len(result))*100\n",
    "print(f'Accuracy is: {round(Accuracy, 2)}')"
   ]
  },
  {
   "cell_type": "markdown",
   "metadata": {},
   "source": [
    "## Conclusion"
   ]
  },
  {
   "cell_type": "code",
   "execution_count": 275,
   "metadata": {},
   "outputs": [],
   "source": [
    "# The model have predicted 44 values correctly out of 45, i.e with 97.78% Accuracy\n",
    "# The Accuracy is sufficient to consider above model Good."
   ]
  },
  {
   "cell_type": "code",
   "execution_count": null,
   "metadata": {},
   "outputs": [],
   "source": []
  }
 ],
 "metadata": {
  "kernelspec": {
   "display_name": "Python 3",
   "language": "python",
   "name": "python3"
  },
  "language_info": {
   "codemirror_mode": {
    "name": "ipython",
    "version": 3
   },
   "file_extension": ".py",
   "mimetype": "text/x-python",
   "name": "python",
   "nbconvert_exporter": "python",
   "pygments_lexer": "ipython3",
   "version": "3.7.6"
  }
 },
 "nbformat": 4,
 "nbformat_minor": 4
}
