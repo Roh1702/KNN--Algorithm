{
 "cells": [
  {
   "cell_type": "markdown",
   "metadata": {},
   "source": [
    "## 1-NN Algorithm Regression Problem"
   ]
  },
  {
   "cell_type": "code",
   "execution_count": 66,
   "metadata": {},
   "outputs": [],
   "source": [
    "# importing required library\n",
    "import numpy as np\n",
    "import pandas as pd\n",
    "import os\n",
    "from sklearn.model_selection import train_test_split"
   ]
  },
  {
   "cell_type": "code",
   "execution_count": 67,
   "metadata": {},
   "outputs": [],
   "source": [
    "# Reading Data\n",
    "cars = pd.read_csv('cars.csv')\n",
    "cars = cars.drop(['Car','Model','Origin'], axis = 1)"
   ]
  },
  {
   "cell_type": "code",
   "execution_count": 68,
   "metadata": {},
   "outputs": [
    {
     "data": {
      "text/html": [
       "<div>\n",
       "<style scoped>\n",
       "    .dataframe tbody tr th:only-of-type {\n",
       "        vertical-align: middle;\n",
       "    }\n",
       "\n",
       "    .dataframe tbody tr th {\n",
       "        vertical-align: top;\n",
       "    }\n",
       "\n",
       "    .dataframe thead th {\n",
       "        text-align: right;\n",
       "    }\n",
       "</style>\n",
       "<table border=\"1\" class=\"dataframe\">\n",
       "  <thead>\n",
       "    <tr style=\"text-align: right;\">\n",
       "      <th></th>\n",
       "      <th>MPG</th>\n",
       "      <th>Cylinders</th>\n",
       "      <th>Displacement</th>\n",
       "      <th>Horsepower</th>\n",
       "      <th>Weight</th>\n",
       "      <th>Acceleration</th>\n",
       "    </tr>\n",
       "  </thead>\n",
       "  <tbody>\n",
       "    <tr>\n",
       "      <th>0</th>\n",
       "      <td>18.0</td>\n",
       "      <td>8</td>\n",
       "      <td>307.0</td>\n",
       "      <td>130</td>\n",
       "      <td>3504</td>\n",
       "      <td>12.0</td>\n",
       "    </tr>\n",
       "    <tr>\n",
       "      <th>1</th>\n",
       "      <td>15.0</td>\n",
       "      <td>8</td>\n",
       "      <td>350.0</td>\n",
       "      <td>165</td>\n",
       "      <td>3693</td>\n",
       "      <td>11.5</td>\n",
       "    </tr>\n",
       "    <tr>\n",
       "      <th>2</th>\n",
       "      <td>18.0</td>\n",
       "      <td>8</td>\n",
       "      <td>318.0</td>\n",
       "      <td>150</td>\n",
       "      <td>3436</td>\n",
       "      <td>11.0</td>\n",
       "    </tr>\n",
       "    <tr>\n",
       "      <th>3</th>\n",
       "      <td>16.0</td>\n",
       "      <td>8</td>\n",
       "      <td>304.0</td>\n",
       "      <td>150</td>\n",
       "      <td>3433</td>\n",
       "      <td>12.0</td>\n",
       "    </tr>\n",
       "    <tr>\n",
       "      <th>4</th>\n",
       "      <td>17.0</td>\n",
       "      <td>8</td>\n",
       "      <td>302.0</td>\n",
       "      <td>140</td>\n",
       "      <td>3449</td>\n",
       "      <td>10.5</td>\n",
       "    </tr>\n",
       "  </tbody>\n",
       "</table>\n",
       "</div>"
      ],
      "text/plain": [
       "    MPG  Cylinders  Displacement  Horsepower  Weight  Acceleration\n",
       "0  18.0          8         307.0         130    3504          12.0\n",
       "1  15.0          8         350.0         165    3693          11.5\n",
       "2  18.0          8         318.0         150    3436          11.0\n",
       "3  16.0          8         304.0         150    3433          12.0\n",
       "4  17.0          8         302.0         140    3449          10.5"
      ]
     },
     "execution_count": 68,
     "metadata": {},
     "output_type": "execute_result"
    }
   ],
   "source": [
    "cars.head(5)"
   ]
  },
  {
   "cell_type": "code",
   "execution_count": 69,
   "metadata": {},
   "outputs": [
    {
     "data": {
      "text/html": [
       "<div>\n",
       "<style scoped>\n",
       "    .dataframe tbody tr th:only-of-type {\n",
       "        vertical-align: middle;\n",
       "    }\n",
       "\n",
       "    .dataframe tbody tr th {\n",
       "        vertical-align: top;\n",
       "    }\n",
       "\n",
       "    .dataframe thead th {\n",
       "        text-align: right;\n",
       "    }\n",
       "</style>\n",
       "<table border=\"1\" class=\"dataframe\">\n",
       "  <thead>\n",
       "    <tr style=\"text-align: right;\">\n",
       "      <th></th>\n",
       "      <th>MPG</th>\n",
       "      <th>Cylinders</th>\n",
       "      <th>Displacement</th>\n",
       "      <th>Horsepower</th>\n",
       "      <th>Weight</th>\n",
       "      <th>Acceleration</th>\n",
       "    </tr>\n",
       "  </thead>\n",
       "  <tbody>\n",
       "    <tr>\n",
       "      <th>count</th>\n",
       "      <td>406.000000</td>\n",
       "      <td>406.000000</td>\n",
       "      <td>406.000000</td>\n",
       "      <td>406.000000</td>\n",
       "      <td>406.000000</td>\n",
       "      <td>406.000000</td>\n",
       "    </tr>\n",
       "    <tr>\n",
       "      <th>mean</th>\n",
       "      <td>23.051232</td>\n",
       "      <td>5.475369</td>\n",
       "      <td>194.779557</td>\n",
       "      <td>103.529557</td>\n",
       "      <td>2979.413793</td>\n",
       "      <td>15.519704</td>\n",
       "    </tr>\n",
       "    <tr>\n",
       "      <th>std</th>\n",
       "      <td>8.401777</td>\n",
       "      <td>1.712160</td>\n",
       "      <td>104.922458</td>\n",
       "      <td>40.520659</td>\n",
       "      <td>847.004328</td>\n",
       "      <td>2.803359</td>\n",
       "    </tr>\n",
       "    <tr>\n",
       "      <th>min</th>\n",
       "      <td>0.000000</td>\n",
       "      <td>3.000000</td>\n",
       "      <td>68.000000</td>\n",
       "      <td>0.000000</td>\n",
       "      <td>1613.000000</td>\n",
       "      <td>8.000000</td>\n",
       "    </tr>\n",
       "    <tr>\n",
       "      <th>25%</th>\n",
       "      <td>17.000000</td>\n",
       "      <td>4.000000</td>\n",
       "      <td>105.000000</td>\n",
       "      <td>75.000000</td>\n",
       "      <td>2226.500000</td>\n",
       "      <td>13.700000</td>\n",
       "    </tr>\n",
       "    <tr>\n",
       "      <th>50%</th>\n",
       "      <td>22.350000</td>\n",
       "      <td>4.000000</td>\n",
       "      <td>151.000000</td>\n",
       "      <td>93.500000</td>\n",
       "      <td>2822.500000</td>\n",
       "      <td>15.500000</td>\n",
       "    </tr>\n",
       "    <tr>\n",
       "      <th>75%</th>\n",
       "      <td>29.000000</td>\n",
       "      <td>8.000000</td>\n",
       "      <td>302.000000</td>\n",
       "      <td>129.000000</td>\n",
       "      <td>3618.250000</td>\n",
       "      <td>17.175000</td>\n",
       "    </tr>\n",
       "    <tr>\n",
       "      <th>max</th>\n",
       "      <td>46.600000</td>\n",
       "      <td>8.000000</td>\n",
       "      <td>455.000000</td>\n",
       "      <td>230.000000</td>\n",
       "      <td>5140.000000</td>\n",
       "      <td>24.800000</td>\n",
       "    </tr>\n",
       "  </tbody>\n",
       "</table>\n",
       "</div>"
      ],
      "text/plain": [
       "              MPG   Cylinders  Displacement  Horsepower       Weight  \\\n",
       "count  406.000000  406.000000    406.000000  406.000000   406.000000   \n",
       "mean    23.051232    5.475369    194.779557  103.529557  2979.413793   \n",
       "std      8.401777    1.712160    104.922458   40.520659   847.004328   \n",
       "min      0.000000    3.000000     68.000000    0.000000  1613.000000   \n",
       "25%     17.000000    4.000000    105.000000   75.000000  2226.500000   \n",
       "50%     22.350000    4.000000    151.000000   93.500000  2822.500000   \n",
       "75%     29.000000    8.000000    302.000000  129.000000  3618.250000   \n",
       "max     46.600000    8.000000    455.000000  230.000000  5140.000000   \n",
       "\n",
       "       Acceleration  \n",
       "count    406.000000  \n",
       "mean      15.519704  \n",
       "std        2.803359  \n",
       "min        8.000000  \n",
       "25%       13.700000  \n",
       "50%       15.500000  \n",
       "75%       17.175000  \n",
       "max       24.800000  "
      ]
     },
     "execution_count": 69,
     "metadata": {},
     "output_type": "execute_result"
    }
   ],
   "source": [
    "cars.describe()"
   ]
  },
  {
   "cell_type": "code",
   "execution_count": null,
   "metadata": {},
   "outputs": [],
   "source": []
  },
  {
   "cell_type": "code",
   "execution_count": 70,
   "metadata": {},
   "outputs": [],
   "source": [
    "# Assigning Predictor/Features & Target/Label \n",
    "x = cars[['Displacement','Cylinders', 'Horsepower', 'Weight','Acceleration']]\n",
    "y = cars['MPG']"
   ]
  },
  {
   "cell_type": "code",
   "execution_count": 71,
   "metadata": {},
   "outputs": [],
   "source": [
    "# Splinting Data for test-train using train_test_splitabs\n",
    "x_train, x_test, y_train, y_test = train_test_split(x, y, test_size = 0.3, random_state = 10)"
   ]
  },
  {
   "cell_type": "code",
   "execution_count": 72,
   "metadata": {},
   "outputs": [
    {
     "data": {
      "text/plain": [
       "pandas.core.series.Series"
      ]
     },
     "execution_count": 72,
     "metadata": {},
     "output_type": "execute_result"
    }
   ],
   "source": [
    "type(y_test)"
   ]
  },
  {
   "cell_type": "code",
   "execution_count": 73,
   "metadata": {},
   "outputs": [
    {
     "name": "stdout",
     "output_type": "stream",
     "text": [
      "x_train data: \n",
      "     Displacement  Cylinders  Horsepower  Weight  Acceleration\n",
      "114         232.0          6         100    2789          15.0\n",
      "205          91.0          4          53    1795          17.4\n",
      "x_test data: \n",
      "     Displacement  Cylinders  Horsepower  Weight  Acceleration\n",
      "166         351.0          8         148    4657          13.5\n",
      "1           350.0          8         165    3693          11.5\n",
      "y_train data: \n",
      "114    18.0\n",
      "205    33.0\n",
      "Name: MPG, dtype: float64\n",
      "y_test data: \n",
      "166    14.0\n",
      "1      15.0\n",
      "Name: MPG, dtype: float64\n"
     ]
    }
   ],
   "source": [
    "print(f'x_train data: \\n{ x_train.head(2)}')\n",
    "print(f'x_test data: \\n{x_test.head(2)}')\n",
    "print(f'y_train data: \\n{y_train.head(2)}')\n",
    "print(f'y_test data: \\n{y_test.head(2)}')"
   ]
  },
  {
   "cell_type": "markdown",
   "metadata": {},
   "source": [
    "### Scaling Data to standardized"
   ]
  },
  {
   "cell_type": "code",
   "execution_count": 74,
   "metadata": {},
   "outputs": [],
   "source": [
    "import scipy.stats as st"
   ]
  },
  {
   "cell_type": "code",
   "execution_count": 75,
   "metadata": {},
   "outputs": [],
   "source": [
    "x_train = pd.DataFrame(st.zscore(x_train))\n",
    "                                                            #y_train = pd.DataFrame(st.zscore(y_train))\n",
    "x_test = pd.DataFrame(st.zscore(x_test))\n",
    "                                                            #y_test = pd.DataFrame(st.zscore(y_test))"
   ]
  },
  {
   "cell_type": "code",
   "execution_count": 76,
   "metadata": {},
   "outputs": [
    {
     "data": {
      "text/plain": [
       "pandas.core.frame.DataFrame"
      ]
     },
     "execution_count": 76,
     "metadata": {},
     "output_type": "execute_result"
    }
   ],
   "source": [
    "type(x_train)"
   ]
  },
  {
   "cell_type": "code",
   "execution_count": 77,
   "metadata": {},
   "outputs": [
    {
     "data": {
      "text/html": [
       "<div>\n",
       "<style scoped>\n",
       "    .dataframe tbody tr th:only-of-type {\n",
       "        vertical-align: middle;\n",
       "    }\n",
       "\n",
       "    .dataframe tbody tr th {\n",
       "        vertical-align: top;\n",
       "    }\n",
       "\n",
       "    .dataframe thead th {\n",
       "        text-align: right;\n",
       "    }\n",
       "</style>\n",
       "<table border=\"1\" class=\"dataframe\">\n",
       "  <thead>\n",
       "    <tr style=\"text-align: right;\">\n",
       "      <th></th>\n",
       "      <th>0</th>\n",
       "      <th>1</th>\n",
       "      <th>2</th>\n",
       "      <th>3</th>\n",
       "      <th>4</th>\n",
       "    </tr>\n",
       "  </thead>\n",
       "  <tbody>\n",
       "    <tr>\n",
       "      <th>0</th>\n",
       "      <td>0.394120</td>\n",
       "      <td>0.332706</td>\n",
       "      <td>-0.047462</td>\n",
       "      <td>-0.196042</td>\n",
       "      <td>-0.205585</td>\n",
       "    </tr>\n",
       "    <tr>\n",
       "      <th>1</th>\n",
       "      <td>-0.996990</td>\n",
       "      <td>-0.863351</td>\n",
       "      <td>-1.242800</td>\n",
       "      <td>-1.436781</td>\n",
       "      <td>0.638553</td>\n",
       "    </tr>\n",
       "    <tr>\n",
       "      <th>2</th>\n",
       "      <td>-0.937794</td>\n",
       "      <td>-0.863351</td>\n",
       "      <td>-1.420829</td>\n",
       "      <td>-1.386852</td>\n",
       "      <td>1.728898</td>\n",
       "    </tr>\n",
       "    <tr>\n",
       "      <th>3</th>\n",
       "      <td>-1.056187</td>\n",
       "      <td>-0.863351</td>\n",
       "      <td>-0.937608</td>\n",
       "      <td>-1.155930</td>\n",
       "      <td>1.271657</td>\n",
       "    </tr>\n",
       "    <tr>\n",
       "      <th>4</th>\n",
       "      <td>-0.464225</td>\n",
       "      <td>0.332706</td>\n",
       "      <td>-0.657848</td>\n",
       "      <td>0.267051</td>\n",
       "      <td>1.412346</td>\n",
       "    </tr>\n",
       "  </tbody>\n",
       "</table>\n",
       "</div>"
      ],
      "text/plain": [
       "          0         1         2         3         4\n",
       "0  0.394120  0.332706 -0.047462 -0.196042 -0.205585\n",
       "1 -0.996990 -0.863351 -1.242800 -1.436781  0.638553\n",
       "2 -0.937794 -0.863351 -1.420829 -1.386852  1.728898\n",
       "3 -1.056187 -0.863351 -0.937608 -1.155930  1.271657\n",
       "4 -0.464225  0.332706 -0.657848  0.267051  1.412346"
      ]
     },
     "execution_count": 77,
     "metadata": {},
     "output_type": "execute_result"
    }
   ],
   "source": [
    "x_train.head(5)"
   ]
  },
  {
   "cell_type": "markdown",
   "metadata": {},
   "source": [
    "### Function 1\n",
    "### * To calculate Eclidean Distance between two Vector"
   ]
  },
  {
   "cell_type": "code",
   "execution_count": null,
   "metadata": {},
   "outputs": [],
   "source": []
  },
  {
   "cell_type": "code",
   "execution_count": 78,
   "metadata": {},
   "outputs": [],
   "source": [
    "# Euclidean Distance function using \"for loop\" method \n",
    "def DISTANCE(x,y):\n",
    "    distance = np.sqrt(np.sum((x-y)**2))  \n",
    "    return(distance)\n"
   ]
  },
  {
   "cell_type": "code",
   "execution_count": 79,
   "metadata": {},
   "outputs": [
    {
     "data": {
      "text/plain": [
       "0.32365443584157716"
      ]
     },
     "execution_count": 79,
     "metadata": {},
     "output_type": "execute_result"
    }
   ],
   "source": [
    "DISTANCE(x_train.iloc[108,],x_test.iloc[0,])"
   ]
  },
  {
   "cell_type": "code",
   "execution_count": 80,
   "metadata": {},
   "outputs": [],
   "source": [
    "# Euclidean Distance function using Vectorized Notation \n",
    "def DIST(x,y):\n",
    "    distance = np.sqrt(np.dot((x-y), np.transpose(x-y)))\n",
    "    return(distance)\n"
   ]
  },
  {
   "cell_type": "code",
   "execution_count": 81,
   "metadata": {},
   "outputs": [
    {
     "data": {
      "text/plain": [
       "0.3236544358415772"
      ]
     },
     "execution_count": 81,
     "metadata": {},
     "output_type": "execute_result"
    }
   ],
   "source": [
    "DIST(x_train.iloc[108,],x_test.iloc[0,])"
   ]
  },
  {
   "cell_type": "markdown",
   "metadata": {},
   "source": [
    "### Function 2\n",
    "### * To calculate NN for one test observation"
   ]
  },
  {
   "cell_type": "code",
   "execution_count": 82,
   "metadata": {},
   "outputs": [],
   "source": [
    "# Importing Math Libaray\n",
    "import math\n",
    "x_star = x_test.iloc[0,]"
   ]
  },
  {
   "cell_type": "code",
   "execution_count": 83,
   "metadata": {},
   "outputs": [],
   "source": [
    "# Function to Calaulate 1-NN with one obs in Test data set\n",
    "def NN(x_train, y_train, x_star):\n",
    "    import math\n",
    "    min_dist = math.inf\n",
    "    for i in range(len(x_train)):\n",
    "        dist = DISTANCE(x_train.iloc[i,], x_star)\n",
    "        \n",
    "        if dist < min_dist:\n",
    "            min_dist = dist\n",
    "            index = i\n",
    "    #print(f'Minimum Distance is : {min_dist}')\n",
    "    #print(f\"index is {index}\")\n",
    "    return(np.array(y_train)[index])\n",
    "    "
   ]
  },
  {
   "cell_type": "code",
   "execution_count": 84,
   "metadata": {},
   "outputs": [
    {
     "data": {
      "text/plain": [
       "15.5"
      ]
     },
     "execution_count": 84,
     "metadata": {},
     "output_type": "execute_result"
    }
   ],
   "source": [
    "NN(x_train, y_train, x_star)"
   ]
  },
  {
   "cell_type": "code",
   "execution_count": 85,
   "metadata": {},
   "outputs": [
    {
     "name": "stdout",
     "output_type": "stream",
     "text": [
      "Predicted Value: 15.5\n"
     ]
    }
   ],
   "source": [
    "print(f'Predicted Value: {y_train.iloc[108]}')"
   ]
  },
  {
   "cell_type": "code",
   "execution_count": 86,
   "metadata": {},
   "outputs": [
    {
     "name": "stdout",
     "output_type": "stream",
     "text": [
      "Actual Value: 14.0\n"
     ]
    }
   ],
   "source": [
    "print(f'Actual Value: {y_test.iloc[0]}')"
   ]
  },
  {
   "cell_type": "code",
   "execution_count": null,
   "metadata": {},
   "outputs": [],
   "source": []
  },
  {
   "cell_type": "code",
   "execution_count": 53,
   "metadata": {},
   "outputs": [],
   "source": [
    "def one_NN(x_train, y_train, x_test):\n",
    "    y_pred = []\n",
    "    for i in range(len(x_test)):\n",
    "        y_pred.append(NN(x_train, y_train, x_test.iloc[i,]))\n",
    "    return(y_pred)"
   ]
  },
  {
   "cell_type": "code",
   "execution_count": 54,
   "metadata": {},
   "outputs": [
    {
     "data": {
      "text/plain": [
       "[15.5,\n",
       " 18.0,\n",
       " 17.0,\n",
       " 26.0,\n",
       " 26.0,\n",
       " 46.6,\n",
       " 13.0,\n",
       " 44.0,\n",
       " 26.0,\n",
       " 19.1,\n",
       " 13.0,\n",
       " 24.0,\n",
       " 26.4,\n",
       " 29.5,\n",
       " 19.0,\n",
       " 25.0,\n",
       " 33.0,\n",
       " 23.0,\n",
       " 40.8,\n",
       " 27.0,\n",
       " 21.1,\n",
       " 17.5,\n",
       " 18.0,\n",
       " 31.5,\n",
       " 24.5,\n",
       " 14.0,\n",
       " 17.6,\n",
       " 18.1,\n",
       " 13.0,\n",
       " 13.0,\n",
       " 18.0,\n",
       " 14.0,\n",
       " 25.8,\n",
       " 17.0,\n",
       " 29.0,\n",
       " 14.0,\n",
       " 0.0,\n",
       " 22.0,\n",
       " 13.0,\n",
       " 20.5,\n",
       " 31.8,\n",
       " 14.0,\n",
       " 28.0,\n",
       " 15.5,\n",
       " 18.1,\n",
       " 36.1,\n",
       " 31.0,\n",
       " 36.0,\n",
       " 25.0,\n",
       " 38.1,\n",
       " 11.0,\n",
       " 32.0,\n",
       " 22.5,\n",
       " 14.0,\n",
       " 14.0,\n",
       " 26.0,\n",
       " 14.0,\n",
       " 15.0,\n",
       " 32.1,\n",
       " 31.6,\n",
       " 31.0,\n",
       " 19.8,\n",
       " 22.5,\n",
       " 34.2,\n",
       " 36.0,\n",
       " 22.0,\n",
       " 25.0,\n",
       " 0.0,\n",
       " 30.0,\n",
       " 20.0,\n",
       " 17.0,\n",
       " 44.3,\n",
       " 15.0,\n",
       " 28.0,\n",
       " 24.2,\n",
       " 20.2,\n",
       " 19.0,\n",
       " 17.0,\n",
       " 13.0,\n",
       " 19.9,\n",
       " 26.0,\n",
       " 37.0,\n",
       " 28.0,\n",
       " 32.3,\n",
       " 26.0,\n",
       " 24.2,\n",
       " 22.0,\n",
       " 20.2,\n",
       " 19.2,\n",
       " 26.0,\n",
       " 29.0,\n",
       " 38.0,\n",
       " 26.0,\n",
       " 44.3,\n",
       " 15.0,\n",
       " 18.0,\n",
       " 16.2,\n",
       " 27.0,\n",
       " 15.0,\n",
       " 25.0,\n",
       " 10.0,\n",
       " 18.0,\n",
       " 15.5,\n",
       " 36.0,\n",
       " 26.0,\n",
       " 35.0,\n",
       " 40.9,\n",
       " 29.5,\n",
       " 23.0,\n",
       " 20.5,\n",
       " 13.0,\n",
       " 24.0,\n",
       " 20.2,\n",
       " 21.5,\n",
       " 24.0,\n",
       " 29.8,\n",
       " 14.0,\n",
       " 27.0,\n",
       " 17.0,\n",
       " 29.0,\n",
       " 21.0,\n",
       " 28.0]"
      ]
     },
     "execution_count": 54,
     "metadata": {},
     "output_type": "execute_result"
    }
   ],
   "source": [
    "y_pred = one_NN(x_train, y_train, x_test)\n",
    "y_pred"
   ]
  },
  {
   "cell_type": "markdown",
   "metadata": {},
   "source": [
    "### Function 3\n",
    "### * To Find 1NN for all the Observation in Test Data."
   ]
  },
  {
   "cell_type": "code",
   "execution_count": 24,
   "metadata": {},
   "outputs": [],
   "source": [
    "import math"
   ]
  },
  {
   "cell_type": "code",
   "execution_count": null,
   "metadata": {},
   "outputs": [],
   "source": []
  },
  {
   "cell_type": "code",
   "execution_count": 25,
   "metadata": {},
   "outputs": [],
   "source": [
    "## Function to Calaulate 1-NN with one obs in Test data set\n",
    "\n",
    "def one_NN(x_train, y_train, x_test):\n",
    "    \n",
    "    y_pred = []\n",
    "    for i in range(len(x_test)): # selecting ony by one obs. in test data\n",
    "        j = 0\n",
    "        min_dist = math.inf\n",
    "        for j in range(len(x_train)):  # selecting ony by one obs. in train data\n",
    "            dist = DIST(x_test.iloc[i,], x_train.iloc[j,])\n",
    "            if dist < min_dist:\n",
    "                min_dist = dist\n",
    "                index_train = j\n",
    "        index_test = i\n",
    "        #y_pred.append(((np.array(y_train)[index_train]), round(min_dist,2), index_train, index_test))\n",
    "        y_pred.append(((np.array(y_train)[index_train])))\n",
    "    return(y_pred)\n",
    "    "
   ]
  },
  {
   "cell_type": "code",
   "execution_count": 27,
   "metadata": {},
   "outputs": [
    {
     "data": {
      "text/plain": [
       "[array([-0.96248842]),\n",
       " array([-0.661074]),\n",
       " array([-0.78163977]),\n",
       " array([0.30345215]),\n",
       " array([0.30345215]),\n",
       " array([2.78710699]),\n",
       " array([-1.26390284]),\n",
       " array([2.47363599]),\n",
       " array([0.30345215]),\n",
       " array([-0.52845165]),\n",
       " array([-1.26390284]),\n",
       " array([0.06232062]),\n",
       " array([0.35167846]),\n",
       " array([0.72543234]),\n",
       " array([-0.54050823]),\n",
       " array([0.18288638]),\n",
       " array([1.14741254]),\n",
       " array([-0.05824515]),\n",
       " array([2.08782553]),\n",
       " array([0.42401792]),\n",
       " array([-0.28732011]),\n",
       " array([-0.72135688]),\n",
       " array([-0.661074]),\n",
       " array([0.96656388]),\n",
       " array([0.1226035]),\n",
       " array([-1.14333707]),\n",
       " array([-0.70930031]),\n",
       " array([-0.64901742]),\n",
       " array([-1.26390284]),\n",
       " array([-1.26390284]),\n",
       " array([-0.661074]),\n",
       " array([-1.14333707]),\n",
       " array([0.279339]),\n",
       " array([-0.78163977]),\n",
       " array([0.66514946]),\n",
       " array([-1.14333707]),\n",
       " array([-2.83125784]),\n",
       " array([-0.17881092]),\n",
       " array([-1.26390284]),\n",
       " array([-0.35965958]),\n",
       " array([1.00273361]),\n",
       " array([-1.14333707]),\n",
       " array([0.54458369]),\n",
       " array([-0.96248842]),\n",
       " array([-0.64901742]),\n",
       " array([1.52116642]),\n",
       " array([0.906281]),\n",
       " array([1.50910984]),\n",
       " array([0.18288638]),\n",
       " array([1.76229796]),\n",
       " array([-1.50503438]),\n",
       " array([1.02684677]),\n",
       " array([-0.11852804]),\n",
       " array([-1.14333707]),\n",
       " array([-1.14333707]),\n",
       " array([0.30345215]),\n",
       " array([-1.14333707]),\n",
       " array([-1.0227713]),\n",
       " array([1.03890334]),\n",
       " array([0.97862046]),\n",
       " array([0.906281]),\n",
       " array([-0.44405561]),\n",
       " array([-0.11852804]),\n",
       " array([1.29209146]),\n",
       " array([1.50910984]),\n",
       " array([-0.17881092]),\n",
       " array([0.18288638]),\n",
       " array([-2.83125784]),\n",
       " array([0.78571523]),\n",
       " array([-0.41994246]),\n",
       " array([-0.78163977]),\n",
       " array([2.50980572]),\n",
       " array([-1.0227713]),\n",
       " array([0.54458369]),\n",
       " array([0.08643377]),\n",
       " array([-0.39582931]),\n",
       " array([-0.54050823]),\n",
       " array([-0.78163977]),\n",
       " array([-1.26390284]),\n",
       " array([-0.43199904]),\n",
       " array([0.30345215]),\n",
       " array([1.62967561]),\n",
       " array([0.54458369]),\n",
       " array([1.0630165]),\n",
       " array([0.30345215]),\n",
       " array([0.08643377]),\n",
       " array([-0.17881092]),\n",
       " array([-0.39582931]),\n",
       " array([-0.51639507]),\n",
       " array([0.30345215]),\n",
       " array([0.66514946]),\n",
       " array([1.75024138]),\n",
       " array([0.30345215]),\n",
       " array([2.50980572]),\n",
       " array([-1.0227713]),\n",
       " array([-0.661074]),\n",
       " array([-0.87809238]),\n",
       " array([0.42401792]),\n",
       " array([-1.0227713]),\n",
       " array([0.18288638]),\n",
       " array([-1.62560015]),\n",
       " array([-0.661074]),\n",
       " array([-0.96248842]),\n",
       " array([1.50910984]),\n",
       " array([0.30345215]),\n",
       " array([1.38854407]),\n",
       " array([2.09988211]),\n",
       " array([0.72543234]),\n",
       " array([-0.05824515]),\n",
       " array([-0.35965958]),\n",
       " array([-1.26390284]),\n",
       " array([0.06232062]),\n",
       " array([-0.39582931]),\n",
       " array([-0.23909381]),\n",
       " array([0.06232062]),\n",
       " array([0.76160208]),\n",
       " array([-1.14333707]),\n",
       " array([0.42401792]),\n",
       " array([-0.78163977]),\n",
       " array([0.66514946]),\n",
       " array([-0.29937669]),\n",
       " array([0.54458369])]"
      ]
     },
     "execution_count": 27,
     "metadata": {},
     "output_type": "execute_result"
    }
   ],
   "source": [
    "y_pred = one_NN(x_train, y_train, x_test)\n",
    "y_pred;"
   ]
  },
  {
   "cell_type": "code",
   "execution_count": 30,
   "metadata": {},
   "outputs": [
    {
     "name": "stdout",
     "output_type": "stream",
     "text": [
      "Predicted Value: 0    0.544584\n",
      "Name: 139, dtype: float64\n",
      "Actual Value: 0    0.932578\n",
      "Name: 121, dtype: float64\n"
     ]
    }
   ],
   "source": [
    "print(f'Predicted Value: {y_train.iloc[139]}')\n",
    "print(f'Actual Value: {y_test.iloc[121]}')"
   ]
  },
  {
   "cell_type": "code",
   "execution_count": 55,
   "metadata": {},
   "outputs": [
    {
     "data": {
      "text/plain": [
       "list"
      ]
     },
     "execution_count": 55,
     "metadata": {},
     "output_type": "execute_result"
    }
   ],
   "source": [
    "type(y_pred)"
   ]
  },
  {
   "cell_type": "code",
   "execution_count": 56,
   "metadata": {},
   "outputs": [],
   "source": [
    "y_pred = np.array(y_pred)\n",
    "y_test = np.array(y_test)"
   ]
  },
  {
   "cell_type": "code",
   "execution_count": 57,
   "metadata": {},
   "outputs": [
    {
     "data": {
      "text/plain": [
       "(122,)"
      ]
     },
     "execution_count": 57,
     "metadata": {},
     "output_type": "execute_result"
    }
   ],
   "source": [
    "y_pred.reshape(122,1)\n",
    "y_pred.shape"
   ]
  },
  {
   "cell_type": "code",
   "execution_count": 58,
   "metadata": {},
   "outputs": [
    {
     "data": {
      "text/plain": [
       "(122,)"
      ]
     },
     "execution_count": 58,
     "metadata": {},
     "output_type": "execute_result"
    }
   ],
   "source": [
    "y_test.reshape(122,1)\n",
    "y_test.shape"
   ]
  },
  {
   "cell_type": "code",
   "execution_count": 60,
   "metadata": {},
   "outputs": [
    {
     "name": "stdout",
     "output_type": "stream",
     "text": [
      "Root Mean Squared Error: 6.693616974156896\n"
     ]
    }
   ],
   "source": [
    "# for comparing Errors\n",
    "from sklearn import metrics\n",
    "# Root Mean Squared Error\n",
    "print(f'Root Mean Squared Error: {np.sqrt(metrics.mean_squared_error(y_test, y_pred))}')"
   ]
  },
  {
   "cell_type": "code",
   "execution_count": null,
   "metadata": {},
   "outputs": [],
   "source": []
  },
  {
   "cell_type": "code",
   "execution_count": null,
   "metadata": {},
   "outputs": [],
   "source": []
  },
  {
   "cell_type": "code",
   "execution_count": null,
   "metadata": {},
   "outputs": [],
   "source": []
  }
 ],
 "metadata": {
  "kernelspec": {
   "display_name": "Python 3",
   "language": "python",
   "name": "python3"
  },
  "language_info": {
   "codemirror_mode": {
    "name": "ipython",
    "version": 3
   },
   "file_extension": ".py",
   "mimetype": "text/x-python",
   "name": "python",
   "nbconvert_exporter": "python",
   "pygments_lexer": "ipython3",
   "version": "3.7.6"
  }
 },
 "nbformat": 4,
 "nbformat_minor": 4
}
